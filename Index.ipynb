{
 "cells": [
  {
   "cell_type": "markdown",
   "metadata": {},
   "source": [
    "# Welcome to Jupyter!"
   ]
  },
  {
   "cell_type": "markdown",
   "metadata": {},
   "source": [
    "This repo contains an introduction to [Jupyter](https://jupyter.org) and [IPython](https://ipython.org).\n",
    "\n",
    "Outline of some basics:\n",
    "\n",
    "* [Notebook Basics](../examples/Notebook/Notebook%20Basics.ipynb)\n",
    "* [IPython - beyond plain python](../examples/IPython%20Kernel/Beyond%20Plain%20Python.ipynb)\n",
    "* [Markdown Cells](../examples/Notebook/Working%20With%20Markdown%20Cells.ipynb)\n",
    "* [Rich Display System](../examples/IPython%20Kernel/Rich%20Output.ipynb)\n",
    "* [Custom Display logic](../examples/IPython%20Kernel/Custom%20Display%20Logic.ipynb)\n",
    "* [Running a Secure Public Notebook Server](../examples/Notebook/Running%20the%20Notebook%20Server.ipynb#Securing-the-notebook-server)\n",
    "* [How Jupyter works](../examples/Notebook/Multiple%20Languages%2C%20Frontends.ipynb) to run code in different languages."
   ]
  },
  {
   "cell_type": "markdown",
   "metadata": {},
   "source": [
    "You can also get this tutorial and run it on your laptop:\n",
    "\n",
    "    git clone https://github.com/ipython/ipython-in-depth\n",
    "\n",
    "Install IPython and Jupyter:\n",
    "\n",
    "with [conda](https://www.anaconda.com/download):\n",
    "\n",
    "    conda install ipython jupyter\n",
    "\n",
    "with pip:\n",
    "\n",
    "    # first, always upgrade pip!\n",
    "    pip install --upgrade pip\n",
    "    pip install --upgrade ipython jupyter\n",
    "\n",
    "Start the notebook in the tutorial directory:\n",
    "\n",
    "    cd ipython-in-depth\n",
    "    jupyter notebook"
   ]
  },
  {
   "cell_type": "code",
   "execution_count": 5,
   "metadata": {},
   "outputs": [
    {
     "name": "stdout",
     "output_type": "stream",
     "text": [
      "[1, 2, 4, 7, 8]\n"
     ]
    }
   ],
   "source": [
    "f = open('input.txt', 'r')\n",
    "set1 = set(map(int, f.readline().split()))\n",
    "set2 = set(map(int, f.readline().split()))\n",
    "set3 = set1.union(set(map(lambda x: x+2, set2)))\n",
    "print(sorted(set3))"
   ]
  },
  {
   "cell_type": "code",
   "execution_count": 53,
   "metadata": {},
   "outputs": [
    {
     "name": "stdout",
     "output_type": "stream",
     "text": [
      "1 2 3 4\n",
      "(0, '1', '2', '3', '4')\n"
     ]
    }
   ],
   "source": [
    "def Surinkti(a, *x):\n",
    "    t1 = (a,)\n",
    "    tuple1 = t1 + tuple(x)\n",
    "    print(tuple1)\n",
    "\n",
    "a, b, *c = input().split()\n",
    "Surinkti(0, a, b, *c)"
   ]
  },
  {
   "cell_type": "code",
   "execution_count": 31,
   "metadata": {},
   "outputs": [
    {
     "name": "stdout",
     "output_type": "stream",
     "text": [
      "[1, 2, 4, 5, 7, 8]\n",
      "[1, 1, 2, 2, 2, 2, 3, 3, 1, 1, 4, 4, 8]\n",
      "{1: 4, 2: 4, 4: 2, 5: 0, 7: 0, 8: 1}\n"
     ]
    }
   ],
   "source": [
    "list1 = eval(input())\n",
    "list2 = eval(input())\n",
    "dict1 = {x: list2.count(x) for x in list1}\n",
    "print(dict1)"
   ]
  },
  {
   "cell_type": "code",
   "execution_count": 43,
   "metadata": {},
   "outputs": [
    {
     "name": "stdout",
     "output_type": "stream",
     "text": [
      "[1, 2, 4, 5, 7, 8]\n",
      "[1, 1, 2, 2, 2, 2, 3, 3, 1, 1, 4, 4, 8]\n",
      "[4, 5, 7, 8]\n"
     ]
    }
   ],
   "source": [
    "list1 = eval(input())\n",
    "list2 = eval(input())\n",
    "list3 = []\n",
    "dict1 = {x: list2.count(x) for x in list1}\n",
    "for a, b in dict1.items():\n",
    "    if b < 3:\n",
    "        list3.append(a)\n",
    "print(list3)"
   ]
  },
  {
   "cell_type": "code",
   "execution_count": 78,
   "metadata": {},
   "outputs": [
    {
     "name": "stdout",
     "output_type": "stream",
     "text": [
      "[1, 2, 4, 5, 7, 8]\n",
      "[1, 1, 2, 2, 2, 2, 2, 3, 3, 1, 1, 4, 4, 8]\n",
      "[2, 1, 4]\n"
     ]
    }
   ],
   "source": [
    "list1 = eval(input())\n",
    "list2 = eval(input())\n",
    "l = []\n",
    "dict1 = {x: list2.count(x) for x in list1}\n",
    "for a, b in sorted(dict1.items(), key= lambda x: (-x[1], x[0]))[0:3]:\n",
    "    l.append(a)\n",
    "print(l)"
   ]
  },
  {
   "cell_type": "code",
   "execution_count": 67,
   "metadata": {},
   "outputs": [
    {
     "name": "stdout",
     "output_type": "stream",
     "text": [
      "5 1 2 4 5 7 8 9\n",
      "['', '1', '22', '444', '5555', '77777']\n"
     ]
    }
   ],
   "source": [
    "def Surinkti(a, *x):\n",
    "    t1 = (a,)\n",
    "    tuple1 = t1 + tuple(x)\n",
    "    r1 = list(range(int(a)+1))\n",
    "    list1 = []\n",
    "    for a,b in list(zip(tuple1, r1)):\n",
    "        list1.append(str(a)*int(b))\n",
    "    return(list1)\n",
    "vals = input().split()\n",
    "print(Surinkti(*vals))"
   ]
  },
  {
   "cell_type": "code",
   "execution_count": null,
   "metadata": {},
   "outputs": [],
   "source": []
  }
 ],
 "metadata": {
  "kernelspec": {
   "display_name": "Python 3",
   "language": "python",
   "name": "python3"
  },
  "language_info": {
   "codemirror_mode": {
    "name": "ipython",
    "version": 3
   },
   "file_extension": ".py",
   "mimetype": "text/x-python",
   "name": "python",
   "nbconvert_exporter": "python",
   "pygments_lexer": "ipython3",
   "version": "3.6.13"
  }
 },
 "nbformat": 4,
 "nbformat_minor": 2
}
